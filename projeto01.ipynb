{
 "cells": [
  {
   "cell_type": "markdown",
   "metadata": {},
   "source": [
    "# Projeto 01"
   ]
  },
  {
   "cell_type": "markdown",
   "metadata": {},
   "source": [
    "#### Mostrando informações para o usuário\n",
    "\n",
    "Comando `print()`"
   ]
  },
  {
   "cell_type": "code",
   "execution_count": 58,
   "metadata": {},
   "outputs": [
    {
     "name": "stdout",
     "output_type": "stream",
     "text": [
      "Semana do Python na prática\n",
      "Eu aprendi python de verdade!\n"
     ]
    }
   ],
   "source": [
    "print(\"Semana do Python na prática\")\n",
    "print(\"Eu aprendi python de verdade!\")"
   ]
  },
  {
   "cell_type": "markdown",
   "metadata": {},
   "source": [
    "#### Receber dados do usuário\n",
    "\n",
    "Comando `input()`"
   ]
  },
  {
   "cell_type": "code",
   "execution_count": 99,
   "metadata": {},
   "outputs": [
    {
     "data": {
      "text/plain": [
       "'Python'"
      ]
     },
     "execution_count": 99,
     "metadata": {},
     "output_type": "execute_result"
    }
   ],
   "source": [
    "input(\"Digite o seu nome: \")\n",
    "input(\"Qual a melhor linguagem de programação do mundo? \")"
   ]
  },
  {
   "cell_type": "markdown",
   "metadata": {},
   "source": [
    "#### Armazenando dados em variáveis\n",
    "\n",
    "- case sensitive;\n",
    "- use nomes que façam sentido;\n",
    "- não pode começar com números;\n",
    "- não pode conter espaços em branco;\n",
    "- evitar colocar cedilha e acento;"
   ]
  },
  {
   "cell_type": "code",
   "execution_count": 2,
   "metadata": {},
   "outputs": [],
   "source": [
    "projeto = \"Sistema Python\"\n",
    "numero = 10"
   ]
  },
  {
   "cell_type": "markdown",
   "metadata": {},
   "source": [
    "#### Mesclando todos os conceitos aprendidos"
   ]
  },
  {
   "cell_type": "code",
   "execution_count": 6,
   "metadata": {},
   "outputs": [],
   "source": [
    "projeto = input(\"Digite a descrição do projeto: \")\n",
    "horas_previstas = input(\"Digite a quantidade de horas previstas: \")\n",
    "valor_hora = input(\"Digite o valor da hora trabalhada: \")\n",
    "prazo = input(\"Digite o prazo estimado: \")"
   ]
  },
  {
   "cell_type": "code",
   "execution_count": 7,
   "metadata": {},
   "outputs": [
    {
     "name": "stdout",
     "output_type": "stream",
     "text": [
      "Desenvolvimento Python\n",
      "200\n",
      "100\n",
      "3 meses\n"
     ]
    }
   ],
   "source": [
    "print(projeto)\n",
    "print(horas_previstas)\n",
    "print(valor_hora)\n",
    "print(prazo)"
   ]
  },
  {
   "cell_type": "markdown",
   "metadata": {},
   "source": [
    "#### Tipos de dados\n",
    "\n",
    "- Textos: `str`\n",
    "- Números: `int`\n",
    "- Comandos `type()`, `str()`, `int()`"
   ]
  },
  {
   "cell_type": "code",
   "execution_count": 8,
   "metadata": {},
   "outputs": [],
   "source": [
    "nome = \"Brenda\"\n",
    "valor = 1000\n"
   ]
  },
  {
   "cell_type": "code",
   "execution_count": 12,
   "metadata": {},
   "outputs": [
    {
     "data": {
      "text/plain": [
       "str"
      ]
     },
     "execution_count": 12,
     "metadata": {},
     "output_type": "execute_result"
    }
   ],
   "source": [
    "type(str(valor))"
   ]
  },
  {
   "cell_type": "markdown",
   "metadata": {},
   "source": [
    "#### Cálculos no Python"
   ]
  },
  {
   "cell_type": "code",
   "execution_count": 15,
   "metadata": {},
   "outputs": [
    {
     "name": "stdout",
     "output_type": "stream",
     "text": [
      "110\n",
      "80\n"
     ]
    }
   ],
   "source": [
    "soma = 100 + 10\n",
    "subtracao = 100 - 20\n",
    "print(soma)\n",
    "print(subtracao)"
   ]
  },
  {
   "cell_type": "code",
   "execution_count": 16,
   "metadata": {},
   "outputs": [
    {
     "data": {
      "text/plain": [
       "str"
      ]
     },
     "execution_count": 16,
     "metadata": {},
     "output_type": "execute_result"
    }
   ],
   "source": [
    "type(horas_previstas)"
   ]
  },
  {
   "cell_type": "markdown",
   "metadata": {},
   "source": [
    "#### Calculando o valor total do projeto"
   ]
  },
  {
   "cell_type": "code",
   "execution_count": 27,
   "metadata": {},
   "outputs": [
    {
     "name": "stdout",
     "output_type": "stream",
     "text": [
      "20000\n"
     ]
    }
   ],
   "source": [
    "def new_func():\n",
    "    valor_total = int(horas_previstas) * int(valor_hora)\n",
    "    return valor_total\n",
    "\n",
    "valor_total = new_func()\n",
    "print(valor_total)"
   ]
  },
  {
   "cell_type": "markdown",
   "metadata": {},
   "source": [
    "#### Gerando o PDF do Orçamento"
   ]
  },
  {
   "cell_type": "code",
   "execution_count": 17,
   "metadata": {},
   "outputs": [],
   "source": [
    "from fpdf import FPDF"
   ]
  },
  {
   "cell_type": "code",
   "execution_count": 26,
   "metadata": {},
   "outputs": [
    {
     "name": "stdout",
     "output_type": "stream",
     "text": [
      "Orçamento gerado com sucesso!\n"
     ]
    },
    {
     "name": "stderr",
     "output_type": "stream",
     "text": [
      "C:\\Users\\conta\\AppData\\Local\\Temp\\ipykernel_21692\\3627157252.py:4: DeprecationWarning: Substituting font arial by core font helvetica - This is deprecated since v2.7.8, and will soon be removed\n",
      "  pdf.set_font(\"Arial\")\n"
     ]
    }
   ],
   "source": [
    "pdf = FPDF()\n",
    "\n",
    "pdf.add_page()\n",
    "pdf.set_font(\"Arial\")\n",
    "\n",
    "pdf.image(\"template.png\", x=0, y=0)\n",
    "\n",
    "pdf.text(115, 145, projeto)\n",
    "pdf.text(115, 160, horas_previstas)\n",
    "pdf.text(115, 175, valor_hora)\n",
    "pdf.text(115, 190, prazo)\n",
    "pdf.text(115, 205, str(valor_total))\n",
    "\n",
    "pdf.output(\"Orçamento.pdf\")\n",
    "print(\"Orçamento gerado com sucesso!\")"
   ]
  },
  {
   "cell_type": "code",
   "execution_count": 19,
   "metadata": {},
   "outputs": [
    {
     "data": {
      "text/plain": [
       "int"
      ]
     },
     "execution_count": 19,
     "metadata": {},
     "output_type": "execute_result"
    }
   ],
   "source": [
    "type(valor_total)"
   ]
  }
 ],
 "metadata": {
  "kernelspec": {
   "display_name": "base",
   "language": "python",
   "name": "python3"
  },
  "language_info": {
   "codemirror_mode": {
    "name": "ipython",
    "version": 3
   },
   "file_extension": ".py",
   "mimetype": "text/x-python",
   "name": "python",
   "nbconvert_exporter": "python",
   "pygments_lexer": "ipython3",
   "version": "3.12.4"
  }
 },
 "nbformat": 4,
 "nbformat_minor": 2
}
